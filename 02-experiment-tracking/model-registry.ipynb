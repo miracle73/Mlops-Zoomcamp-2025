{
 "cells": [
  {
   "cell_type": "code",
   "execution_count": 1,
   "id": "3cfca03c",
   "metadata": {},
   "outputs": [],
   "source": [
    "from mlflow.tracking import MlflowClient\n",
    "MLFLOW_TRACKING_URI = \"sqlite:///mlflow.db\""
   ]
  },
  {
   "cell_type": "code",
   "execution_count": 2,
   "id": "1ffe3dd6",
   "metadata": {},
   "outputs": [
    {
     "name": "stderr",
     "output_type": "stream",
     "text": [
      "2025/09/16 11:31:10 INFO mlflow.store.db.utils: Creating initial MLflow database tables...\n",
      "2025/09/16 11:31:10 INFO mlflow.store.db.utils: Updating database tables\n",
      "INFO  [alembic.runtime.migration] Context impl SQLiteImpl.\n",
      "INFO  [alembic.runtime.migration] Will assume non-transactional DDL.\n",
      "INFO  [alembic.runtime.migration] Context impl SQLiteImpl.\n",
      "INFO  [alembic.runtime.migration] Will assume non-transactional DDL.\n"
     ]
    },
    {
     "data": {
      "text/plain": [
       "[<Experiment: artifact_location='/workspaces/Mlops-Zoomcamp-2025/02-experiment-tracking/mlruns/2', creation_time=1757655991553, experiment_id='2', last_update_time=1757655991553, lifecycle_stage='active', name='my-cool-experiment', tags={}>,\n",
       " <Experiment: artifact_location='/workspaces/Mlops-Zoomcamp-2025/02-experiment-tracking/mlruns/1', creation_time=1757654328038, experiment_id='1', last_update_time=1757654328038, lifecycle_stage='active', name='nyc-taxi-experiment', tags={}>,\n",
       " <Experiment: artifact_location='/workspaces/Mlops-Zoomcamp-2025/02-experiment-tracking/mlruns/0', creation_time=1757654328030, experiment_id='0', last_update_time=1757654328030, lifecycle_stage='active', name='Default', tags={}>]"
      ]
     },
     "execution_count": 2,
     "metadata": {},
     "output_type": "execute_result"
    }
   ],
   "source": [
    "client = MlflowClient(tracking_uri=MLFLOW_TRACKING_URI)\n",
    "\n",
    "client.search_experiments()"
   ]
  },
  {
   "cell_type": "code",
   "execution_count": 3,
   "id": "0aed1ecf",
   "metadata": {},
   "outputs": [
    {
     "data": {
      "text/plain": [
       "'3'"
      ]
     },
     "execution_count": 3,
     "metadata": {},
     "output_type": "execute_result"
    }
   ],
   "source": [
    "client.create_experiment(name=\"my-next-experiment\")"
   ]
  },
  {
   "cell_type": "code",
   "execution_count": 40,
   "id": "5b82b721",
   "metadata": {},
   "outputs": [],
   "source": [
    "from mlflow.entities import ViewType\n",
    "\n",
    "runs = client.search_runs(\n",
    "    experiment_ids='3',\n",
    "    filter_string=\"\",\n",
    "    run_view_type=ViewType.ACTIVE_ONLY,\n",
    "    max_results=5,\n",
    "    order_by=[\"metrics.rmse ASC\"]\n",
    ")"
   ]
  },
  {
   "cell_type": "code",
   "execution_count": 41,
   "id": "87720e3b",
   "metadata": {},
   "outputs": [
    {
     "name": "stdout",
     "output_type": "stream",
     "text": [
      "run id: c2f4ec9b87874589a0933be346a56cac, rmse: 7.6166\n",
      "run id: c94de1a1d7d54fba87e6582023251d7a, rmse: 7.6166\n",
      "run id: 6ec0bfb5d0e3487aa67d86a5ea4fddb3, rmse: 7.6166\n",
      "run id: d9d1d2ec955647bfb4bde16d168bb62d, rmse: 7.6166\n",
      "run id: 7c26c473216245b2909af5ddec5cc339, rmse: 7.6166\n"
     ]
    }
   ],
   "source": [
    "for run in runs:\n",
    "    print(f\"run id: {run.info.run_id}, rmse: {run.data.metrics['rmse']:.4f}\")"
   ]
  },
  {
   "cell_type": "markdown",
   "id": "bf8c44b5",
   "metadata": {},
   "source": [
    "Model Registry\n",
    "\n"
   ]
  },
  {
   "cell_type": "code",
   "execution_count": 6,
   "id": "7042b805",
   "metadata": {},
   "outputs": [],
   "source": [
    "import mlflow\n",
    "\n",
    "mlflow.set_tracking_uri(MLFLOW_TRACKING_URI)"
   ]
  },
  {
   "cell_type": "code",
   "execution_count": 7,
   "id": "6daca191",
   "metadata": {},
   "outputs": [
    {
     "data": {
      "text/plain": [
       "<Run: data=<RunData: metrics={'rmse': 9.23343622815571}, params={'learning_rate': '0.09585355369315604',\n",
       " 'max_depth': '30',\n",
       " 'min_child_weight': '1.060597050922164',\n",
       " 'objective': 'reg:linear',\n",
       " 'reg_alpha': '0.018060244040060163',\n",
       " 'reg_lambda': '0.011658731377413597',\n",
       " 'seed': '42'}, tags={'mlflow.runName': 'masked-kit-244',\n",
       " 'mlflow.source.name': '/home/codespace/.local/lib/python3.12/site-packages/ipykernel_launcher.py',\n",
       " 'mlflow.source.type': 'LOCAL',\n",
       " 'mlflow.user': 'codespace'}>, info=<RunInfo: artifact_uri='/workspaces/Mlops-Zoomcamp-2025/02-experiment-tracking/mlruns/1/d011c6d504ae462bb4666d12900ee4d1/artifacts', end_time=1757654916717, experiment_id='1', lifecycle_stage='active', run_id='d011c6d504ae462bb4666d12900ee4d1', run_name='masked-kit-244', start_time=1757654715337, status='FINISHED', user_id='codespace'>, inputs=<RunInputs: dataset_inputs=[], model_inputs=[]>, outputs=<RunOutputs: model_outputs=[<LoggedModelOutput: model_id='m-1e0dc97aaca5467d910e3f0f4d249d08', step=0>]>>"
      ]
     },
     "execution_count": 7,
     "metadata": {},
     "output_type": "execute_result"
    }
   ],
   "source": [
    "client.get_run(\"d011c6d504ae462bb4666d12900ee4d1\")"
   ]
  },
  {
   "cell_type": "code",
   "execution_count": 8,
   "id": "e65b5510",
   "metadata": {},
   "outputs": [
    {
     "name": "stderr",
     "output_type": "stream",
     "text": [
      "2025/09/16 11:31:53 INFO mlflow.store.db.utils: Creating initial MLflow database tables...\n",
      "2025/09/16 11:31:53 INFO mlflow.store.db.utils: Updating database tables\n",
      "INFO  [alembic.runtime.migration] Context impl SQLiteImpl.\n",
      "INFO  [alembic.runtime.migration] Will assume non-transactional DDL.\n",
      "Registered model 'nyc-taxi' already exists. Creating a new version of this model...\n",
      "2025/09/16 11:31:53 WARNING mlflow.tracking._model_registry.fluent: Run with id d011c6d504ae462bb4666d12900ee4d1 has no artifacts at artifact path 'models_mlflow', registering model based on models:/m-1e0dc97aaca5467d910e3f0f4d249d08 instead\n",
      "Created version '2' of model 'nyc-taxi'.\n"
     ]
    },
    {
     "data": {
      "text/plain": [
       "<ModelVersion: aliases=[], creation_timestamp=1758022313457, current_stage='None', deployment_job_state=None, description=None, last_updated_timestamp=1758022313457, metrics=None, model_id=None, name='nyc-taxi', params=None, run_id='d011c6d504ae462bb4666d12900ee4d1', run_link=None, source='models:/m-1e0dc97aaca5467d910e3f0f4d249d08', status='READY', status_message=None, tags={}, user_id=None, version=2>"
      ]
     },
     "execution_count": 8,
     "metadata": {},
     "output_type": "execute_result"
    }
   ],
   "source": [
    "run_id = \"d011c6d504ae462bb4666d12900ee4d1\"\n",
    "model_uri = f\"runs:/{run_id}/models_mlflow\"  # Use the actual artifact name - models_mlflow\n",
    "mlflow.register_model(model_uri=model_uri, name=\"nyc-taxi\")"
   ]
  },
  {
   "cell_type": "code",
   "execution_count": 9,
   "id": "b63bfa41",
   "metadata": {},
   "outputs": [
    {
     "name": "stdout",
     "output_type": "stream",
     "text": [
      "version: 2, stage: None\n"
     ]
    },
    {
     "name": "stderr",
     "output_type": "stream",
     "text": [
      "/tmp/ipykernel_34233/29955185.py:2: FutureWarning: ``mlflow.tracking.client.MlflowClient.get_latest_versions`` is deprecated since 2.9.0. Model registry stages will be removed in a future major release. To learn more about the deprecation of model registry stages, see our migration guide here: https://mlflow.org/docs/latest/model-registry.html#migrating-from-stages\n",
      "  latest_versions = client.get_latest_versions(name=model_name)\n"
     ]
    }
   ],
   "source": [
    "model_name = \"nyc-taxi-model\"\n",
    "latest_versions = client.get_latest_versions(name=model_name)\n",
    "\n",
    "for version in latest_versions:\n",
    "    print(f\"version: {version.version}, stage: {version.current_stage}\")"
   ]
  },
  {
   "cell_type": "code",
   "execution_count": 24,
   "id": "d71d0050",
   "metadata": {},
   "outputs": [
    {
     "name": "stdout",
     "output_type": "stream",
     "text": [
      "Version: 1, Current Stage: None\n",
      "Version: 3, Current Stage: None\n",
      "Version: 2, Current Stage: None\n"
     ]
    }
   ],
   "source": [
    "versions = client.search_model_versions(f\"name='{model_name}'\")\n",
    "for v in versions:\n",
    "    print(f\"Version: {v.version}, Current Stage: {v.current_stage}\")"
   ]
  },
  {
   "cell_type": "code",
   "execution_count": 11,
   "id": "0d138f3a",
   "metadata": {},
   "outputs": [
    {
     "data": {
      "text/plain": [
       "<ModelVersion: aliases=[], creation_timestamp=1758022356529, current_stage='None', deployment_job_state=None, description=None, last_updated_timestamp=1758022356529, metrics=None, model_id=None, name='nyc-taxi-model', params=None, run_id=None, run_link=None, source='runs:/d011c6d504ae462bb4666d12900ee4d1/model', status='READY', status_message=None, tags={}, user_id=None, version=3>"
      ]
     },
     "execution_count": 11,
     "metadata": {},
     "output_type": "execute_result"
    }
   ],
   "source": [
    "# Register a new model but there is no model_uri\n",
    "# client.create_registered_model(name=\"your_new_model_name\")\n",
    "# Register a new version of an already existing model and run id\n",
    "client.create_model_version(\n",
    "    name=model_name,\n",
    "    source=f\"runs:/{run_id}/model\"\n",
    ")"
   ]
  },
  {
   "cell_type": "code",
   "execution_count": 85,
   "id": "da9ef466",
   "metadata": {},
   "outputs": [],
   "source": [
    "model_version = 1\n",
    "new_stage = \"Staging\"\n",
    "# Instead of stages, use aliases (new way)\n",
    "# Alias has replaced staging\n",
    "client.set_registered_model_alias(\n",
    "    name=model_name,\n",
    "    alias=\"development\",\n",
    "    version=model_version,\n",
    "   \n",
    ")"
   ]
  },
  {
   "cell_type": "code",
   "execution_count": 86,
   "id": "12c0d019",
   "metadata": {},
   "outputs": [
    {
     "name": "stderr",
     "output_type": "stream",
     "text": [
      "/tmp/ipykernel_34233/4094165861.py:1: FutureWarning: ``mlflow.tracking.client.MlflowClient.transition_model_version_stage`` is deprecated since 2.9.0. Model registry stages will be removed in a future major release. To learn more about the deprecation of model registry stages, see our migration guide here: https://mlflow.org/docs/latest/model-registry.html#migrating-from-stages\n",
      "  client.transition_model_version_stage(\n"
     ]
    },
    {
     "data": {
      "text/plain": [
       "<ModelVersion: aliases=[], creation_timestamp=1758025715710, current_stage='Staging', deployment_job_state=None, description=None, last_updated_timestamp=1758030924878, metrics=None, model_id=None, name='nyc-taxi-lasso-model', params=None, run_id='c94de1a1d7d54fba87e6582023251d7a', run_link=None, source='models:/m-cd58a7a62b384ba4aedf01cf396bb1b5', status='READY', status_message=None, tags={}, user_id=None, version=1>"
      ]
     },
     "execution_count": 86,
     "metadata": {},
     "output_type": "execute_result"
    }
   ],
   "source": [
    "client.transition_model_version_stage(\n",
    "    name=\"nyc-taxi-lasso-model\",\n",
    "    version=1,\n",
    "    stage=\"Staging\"  # or \"Production\", \"Archived\", \"None\"\n",
    ")"
   ]
  },
  {
   "cell_type": "code",
   "execution_count": null,
   "id": "c5aa144f",
   "metadata": {},
   "outputs": [
    {
     "name": "stdout",
     "output_type": "stream",
     "text": [
      "Staging\n"
     ]
    }
   ],
   "source": [
    "model_version = client.get_model_version(\n",
    "     name=\"nyc-taxi-lasso-model\",\n",
    "    version=1,\n",
    ")\n",
    "print(model_version.current_stage)\n",
    "# Get all versions of a model\n",
    "# model = client.get_registered_model(name=model_name)\n",
    "# for version in client.search_model_versions(f\"name='{model_name}'\"):\n",
    "#     print(f\"Version {version.version}: {version.current_stage}\")"
   ]
  },
  {
   "cell_type": "code",
   "execution_count": 14,
   "id": "805061d3",
   "metadata": {},
   "outputs": [
    {
     "data": {
      "text/plain": [
       "<ModelVersion: aliases=['development', 'staging'], creation_timestamp=1757658592311, current_stage='None', deployment_job_state=None, description='The model version 1 was transitioned to Staging on 2025-09-16', last_updated_timestamp=1758022569446, metrics=None, model_id=None, name='nyc-taxi-model', params=None, run_id='d011c6d504ae462bb4666d12900ee4d1', run_link=None, source='models:/m-1e0dc97aaca5467d910e3f0f4d249d08', status='READY', status_message=None, tags={}, user_id=None, version=1>"
      ]
     },
     "execution_count": 14,
     "metadata": {},
     "output_type": "execute_result"
    }
   ],
   "source": [
    "from datetime import datetime\n",
    "\n",
    "date = datetime.today().date()\n",
    "client.update_model_version(\n",
    "    name=model_name,\n",
    "    version=model_version,\n",
    "    description=f\"The model version {model_version} was transitioned to {new_stage} on {date}\"\n",
    ")"
   ]
  },
  {
   "cell_type": "code",
   "execution_count": 22,
   "id": "00ed71b2",
   "metadata": {},
   "outputs": [
    {
     "data": {
      "text/plain": [
       "[<ModelVersion: aliases=[], creation_timestamp=1757658592311, current_stage='None', deployment_job_state=None, description='The model version 1 was transitioned to Staging on 2025-09-16', last_updated_timestamp=1758022569446, metrics=None, model_id=None, name='nyc-taxi-model', params=None, run_id='d011c6d504ae462bb4666d12900ee4d1', run_link=None, source='models:/m-1e0dc97aaca5467d910e3f0f4d249d08', status='READY', status_message=None, tags={}, user_id=None, version=1>,\n",
       " <ModelVersion: aliases=[], creation_timestamp=1758022356529, current_stage='None', deployment_job_state=None, description=None, last_updated_timestamp=1758022356529, metrics=None, model_id=None, name='nyc-taxi-model', params=None, run_id=None, run_link=None, source='runs:/d011c6d504ae462bb4666d12900ee4d1/model', status='READY', status_message=None, tags={}, user_id=None, version=3>,\n",
       " <ModelVersion: aliases=[], creation_timestamp=1757835095117, current_stage='None', deployment_job_state=None, description=None, last_updated_timestamp=1757835095117, metrics=None, model_id=None, name='nyc-taxi-model', params=None, run_id=None, run_link=None, source='runs:/d011c6d504ae462bb4666d12900ee4d1/model', status='READY', status_message=None, tags={}, user_id=None, version=2>]"
      ]
     },
     "execution_count": 22,
     "metadata": {},
     "output_type": "execute_result"
    }
   ],
   "source": [
    "client.search_registered_models()\n",
    "\n",
    "# Check model versions\n",
    "client.search_model_versions(f\"name='{model_name}'\")"
   ]
  },
  {
   "cell_type": "code",
   "execution_count": 27,
   "id": "df6b3fc5",
   "metadata": {},
   "outputs": [
    {
     "name": "stdout",
     "output_type": "stream",
     "text": [
      "Collecting ipywidgets\n",
      "  Downloading ipywidgets-8.1.7-py3-none-any.whl.metadata (2.4 kB)\n",
      "Requirement already satisfied: comm>=0.1.3 in /home/codespace/.local/lib/python3.12/site-packages (from ipywidgets) (0.2.2)\n",
      "Requirement already satisfied: ipython>=6.1.0 in /home/codespace/.local/lib/python3.12/site-packages (from ipywidgets) (9.4.0)\n",
      "Requirement already satisfied: traitlets>=4.3.1 in /home/codespace/.local/lib/python3.12/site-packages (from ipywidgets) (5.14.3)\n",
      "Collecting widgetsnbextension~=4.0.14 (from ipywidgets)\n",
      "  Downloading widgetsnbextension-4.0.14-py3-none-any.whl.metadata (1.6 kB)\n",
      "Collecting jupyterlab_widgets~=3.0.15 (from ipywidgets)\n",
      "  Downloading jupyterlab_widgets-3.0.15-py3-none-any.whl.metadata (20 kB)\n",
      "Requirement already satisfied: decorator in /home/codespace/.local/lib/python3.12/site-packages (from ipython>=6.1.0->ipywidgets) (5.2.1)\n",
      "Requirement already satisfied: ipython-pygments-lexers in /home/codespace/.local/lib/python3.12/site-packages (from ipython>=6.1.0->ipywidgets) (1.1.1)\n",
      "Requirement already satisfied: jedi>=0.16 in /home/codespace/.local/lib/python3.12/site-packages (from ipython>=6.1.0->ipywidgets) (0.19.2)\n",
      "Requirement already satisfied: matplotlib-inline in /home/codespace/.local/lib/python3.12/site-packages (from ipython>=6.1.0->ipywidgets) (0.1.7)\n",
      "Requirement already satisfied: pexpect>4.3 in /home/codespace/.local/lib/python3.12/site-packages (from ipython>=6.1.0->ipywidgets) (4.9.0)\n",
      "Requirement already satisfied: prompt_toolkit<3.1.0,>=3.0.41 in /home/codespace/.local/lib/python3.12/site-packages (from ipython>=6.1.0->ipywidgets) (3.0.51)\n",
      "Requirement already satisfied: pygments>=2.4.0 in /home/codespace/.local/lib/python3.12/site-packages (from ipython>=6.1.0->ipywidgets) (2.19.2)\n",
      "Requirement already satisfied: stack_data in /home/codespace/.local/lib/python3.12/site-packages (from ipython>=6.1.0->ipywidgets) (0.6.3)\n",
      "Requirement already satisfied: wcwidth in /home/codespace/.local/lib/python3.12/site-packages (from prompt_toolkit<3.1.0,>=3.0.41->ipython>=6.1.0->ipywidgets) (0.2.13)\n",
      "Requirement already satisfied: parso<0.9.0,>=0.8.4 in /home/codespace/.local/lib/python3.12/site-packages (from jedi>=0.16->ipython>=6.1.0->ipywidgets) (0.8.4)\n",
      "Requirement already satisfied: ptyprocess>=0.5 in /home/codespace/.local/lib/python3.12/site-packages (from pexpect>4.3->ipython>=6.1.0->ipywidgets) (0.7.0)\n",
      "Requirement already satisfied: executing>=1.2.0 in /home/codespace/.local/lib/python3.12/site-packages (from stack_data->ipython>=6.1.0->ipywidgets) (2.2.0)\n",
      "Requirement already satisfied: asttokens>=2.1.0 in /home/codespace/.local/lib/python3.12/site-packages (from stack_data->ipython>=6.1.0->ipywidgets) (3.0.0)\n",
      "Requirement already satisfied: pure-eval in /home/codespace/.local/lib/python3.12/site-packages (from stack_data->ipython>=6.1.0->ipywidgets) (0.2.3)\n",
      "Downloading ipywidgets-8.1.7-py3-none-any.whl (139 kB)\n",
      "Downloading jupyterlab_widgets-3.0.15-py3-none-any.whl (216 kB)\n",
      "Downloading widgetsnbextension-4.0.14-py3-none-any.whl (2.2 MB)\n",
      "\u001b[2K   \u001b[90m━━━━━━━━━━━━━━━━━━━━━━━━━━━━━━━━━━━━━━━━\u001b[0m \u001b[32m2.2/2.2 MB\u001b[0m \u001b[31m49.0 MB/s\u001b[0m eta \u001b[36m0:00:00\u001b[0m\n",
      "\u001b[?25hInstalling collected packages: widgetsnbextension, jupyterlab_widgets, ipywidgets\n",
      "\u001b[2K   \u001b[90m━━━━━━━━━━━━━━━━━━━━━━━━━━━━━━━━━━━━━━━━\u001b[0m \u001b[32m3/3\u001b[0m [ipywidgets]3\u001b[0m [ipywidgets]\n",
      "\u001b[1A\u001b[2KSuccessfully installed ipywidgets-8.1.7 jupyterlab_widgets-3.0.15 widgetsnbextension-4.0.14\n",
      "\n",
      "\u001b[1m[\u001b[0m\u001b[34;49mnotice\u001b[0m\u001b[1;39;49m]\u001b[0m\u001b[39;49m A new release of pip is available: \u001b[0m\u001b[31;49m25.1.1\u001b[0m\u001b[39;49m -> \u001b[0m\u001b[32;49m25.2\u001b[0m\n",
      "\u001b[1m[\u001b[0m\u001b[34;49mnotice\u001b[0m\u001b[1;39;49m]\u001b[0m\u001b[39;49m To update, run: \u001b[0m\u001b[32;49mpython -m pip install --upgrade pip\u001b[0m\n",
      "Note: you may need to restart the kernel to use updated packages.\n"
     ]
    }
   ],
   "source": [
    "pip install ipywidgets"
   ]
  },
  {
   "cell_type": "code",
   "execution_count": 30,
   "id": "a29a5358",
   "metadata": {},
   "outputs": [
    {
     "data": {
      "text/plain": [
       "[]"
      ]
     },
     "execution_count": 30,
     "metadata": {},
     "output_type": "execute_result"
    }
   ],
   "source": [
    "client.list_artifacts(\"d011c6d504ae462bb4666d12900ee4d1\")"
   ]
  },
  {
   "cell_type": "code",
   "execution_count": null,
   "metadata": {},
   "outputs": [],
   "source": []
  },
  {
   "cell_type": "code",
   "execution_count": 42,
   "id": "9f2ec76a",
   "metadata": {},
   "outputs": [
    {
     "name": "stderr",
     "output_type": "stream",
     "text": [
      "Downloading artifacts:   0%|          | 0/1 [00:00<?, ?it/s]\n",
      "Downloading artifacts: 100%|██████████| 5/5 [00:00<00:00, 1772.89it/s] \n"
     ]
    }
   ],
   "source": [
    "import mlflow.pyfunc\n",
    "\n",
    "# Load model from Model Registry\n",
    "mlflow.set_tracking_uri(\"sqlite:///mlflow.db\")  # or wherever your MLflow UI is running\n",
    "model = mlflow.pyfunc.load_model(\"runs:/c94de1a1d7d54fba87e6582023251d7a/model\")"
   ]
  },
  {
   "cell_type": "code",
   "execution_count": null,
   "id": "d88782eb",
   "metadata": {},
   "outputs": [
    {
     "name": "stdout",
     "output_type": "stream",
     "text": [
      "models_pickle\n"
     ]
    },
    {
     "name": "stderr",
     "output_type": "stream",
     "text": [
      "Downloading artifacts:   0%|          | 0/1 [00:00<?, ?it/s]\n",
      "Downloading artifacts: 100%|██████████| 5/5 [00:00<00:00, 1625.57it/s] \n"
     ]
    }
   ],
   "source": [
    "from mlflow.tracking import MlflowClient\n",
    "client = MlflowClient()\n",
    "\n",
    "# List artifacts to see the correct path\n",
    "artifacts = client.list_artifacts(\"c94de1a1d7d54fba87e6582023251d7a\")\n",
    "for artifact in artifacts:\n",
    "    print(artifact.path)\n",
    "\n",
    "# Then load with the correct path (usually \"model\")\n",
    "model = mlflow.pyfunc.load_model(\"runs:/c94de1a1d7d54fba87e6582023251d7a/model\")"
   ]
  },
  {
   "cell_type": "code",
   "execution_count": 45,
   "id": "09fd840a",
   "metadata": {},
   "outputs": [
    {
     "name": "stdout",
     "output_type": "stream",
     "text": [
      "mlflow.pyfunc.loaded_model:\n",
      "  artifact_path: /workspaces/Mlops-Zoomcamp-2025/02-experiment-tracking/mlruns/3/models/m-cd58a7a62b384ba4aedf01cf396bb1b5/artifacts\n",
      "  flavor: mlflow.sklearn\n",
      "  run_id: c94de1a1d7d54fba87e6582023251d7a\n",
      "\n"
     ]
    }
   ],
   "source": [
    "model = mlflow.pyfunc.load_model(f\"models:/nyc-taxi-lasso-model/1\")\n",
    "print(model)"
   ]
  },
  {
   "cell_type": "code",
   "execution_count": 16,
   "id": "4a22d10d",
   "metadata": {},
   "outputs": [],
   "source": [
    "from sklearn.metrics import root_mean_squared_error"
   ]
  },
  {
   "cell_type": "code",
   "execution_count": 48,
   "metadata": {},
   "outputs": [],
   "source": [
    "import pandas as pd\n"
   ]
  },
  {
   "cell_type": "code",
   "execution_count": 49,
   "id": "e4ccae80",
   "metadata": {},
   "outputs": [
    {
     "name": "stdout",
     "output_type": "stream",
     "text": [
      "Requirement already satisfied: pyarrow in /usr/local/python/3.12.1/lib/python3.12/site-packages (21.0.0)\n",
      "Requirement already satisfied: fastparquet in /usr/local/python/3.12.1/lib/python3.12/site-packages (2024.11.0)\n",
      "Requirement already satisfied: pandas>=1.5.0 in /home/codespace/.local/lib/python3.12/site-packages (from fastparquet) (2.3.1)\n",
      "Requirement already satisfied: numpy in /home/codespace/.local/lib/python3.12/site-packages (from fastparquet) (2.3.1)\n",
      "Requirement already satisfied: cramjam>=2.3 in /usr/local/python/3.12.1/lib/python3.12/site-packages (from fastparquet) (2.11.0)\n",
      "Requirement already satisfied: fsspec in /home/codespace/.local/lib/python3.12/site-packages (from fastparquet) (2024.6.1)\n",
      "Requirement already satisfied: packaging in /home/codespace/.local/lib/python3.12/site-packages (from fastparquet) (25.0)\n",
      "Requirement already satisfied: python-dateutil>=2.8.2 in /home/codespace/.local/lib/python3.12/site-packages (from pandas>=1.5.0->fastparquet) (2.9.0.post0)\n",
      "Requirement already satisfied: pytz>=2020.1 in /home/codespace/.local/lib/python3.12/site-packages (from pandas>=1.5.0->fastparquet) (2025.2)\n",
      "Requirement already satisfied: tzdata>=2022.7 in /home/codespace/.local/lib/python3.12/site-packages (from pandas>=1.5.0->fastparquet) (2025.2)\n",
      "Requirement already satisfied: six>=1.5 in /home/codespace/.local/lib/python3.12/site-packages (from python-dateutil>=2.8.2->pandas>=1.5.0->fastparquet) (1.17.0)\n",
      "\n",
      "\u001b[1m[\u001b[0m\u001b[34;49mnotice\u001b[0m\u001b[1;39;49m]\u001b[0m\u001b[39;49m A new release of pip is available: \u001b[0m\u001b[31;49m25.1.1\u001b[0m\u001b[39;49m -> \u001b[0m\u001b[32;49m25.2\u001b[0m\n",
      "\u001b[1m[\u001b[0m\u001b[34;49mnotice\u001b[0m\u001b[1;39;49m]\u001b[0m\u001b[39;49m To update, run: \u001b[0m\u001b[32;49mpython -m pip install --upgrade pip\u001b[0m\n",
      "Note: you may need to restart the kernel to use updated packages.\n"
     ]
    }
   ],
   "source": [
    "pip install pyarrow fastparquet"
   ]
  },
  {
   "cell_type": "code",
   "execution_count": 50,
   "id": "47fc9592",
   "metadata": {},
   "outputs": [
    {
     "name": "stdout",
     "output_type": "stream",
     "text": [
      "PyArrow version: 21.0.0, 2024.11.0\n"
     ]
    }
   ],
   "source": [
    "import pyarrow\n",
    "import fastparquet\n",
    "print(f\"PyArrow version: {pyarrow.__version__}, {fastparquet.__version__}\")"
   ]
  },
  {
   "cell_type": "code",
   "execution_count": 51,
   "id": "36ad1725",
   "metadata": {},
   "outputs": [],
   "source": [
    "from sklearn.metrics import mean_squared_error\n",
    "import pandas as pd\n",
    "\n",
    "\n",
    "def read_dataframe(filename):\n",
    "    df = pd.read_parquet(filename, engine='fastparquet')\n",
    "\n",
    "    df.lpep_dropoff_datetime = pd.to_datetime(df.lpep_dropoff_datetime)\n",
    "    df.lpep_pickup_datetime = pd.to_datetime(df.lpep_pickup_datetime)\n",
    "\n",
    "    df['duration'] = df.lpep_dropoff_datetime - df.lpep_pickup_datetime\n",
    "    df.duration = df.duration.apply(lambda td: td.total_seconds() / 60)\n",
    "\n",
    "    df = df[(df.duration >= 1) & (df.duration <= 60)]\n",
    "\n",
    "    categorical = ['PULocationID', 'DOLocationID']\n",
    "    df[categorical] = df[categorical].astype(str)\n",
    "    \n",
    "    return df\n",
    "\n",
    "\n",
    "def preprocess(df, dv):\n",
    "    df['PU_DO'] = df['PULocationID'] + '_' + df['DOLocationID']\n",
    "    categorical = ['PU_DO']\n",
    "    numerical = ['trip_distance']\n",
    "    train_dicts = df[categorical + numerical].to_dict(orient='records')\n",
    "    return dv.transform(train_dicts)\n",
    "\n",
    "\n",
    "def test_model(run_id, X_test, y_test):\n",
    "    model = mlflow.pyfunc.load_model(f\"runs:/{run_id}/model\")\n",
    "    y_pred = model.predict(X_test)\n",
    "    return {\"rmse\": root_mean_squared_error(y_test, y_pred)}"
   ]
  },
  {
   "cell_type": "code",
   "execution_count": 52,
   "id": "59ba8219",
   "metadata": {},
   "outputs": [],
   "source": [
    "df = read_dataframe(\"data/green_tripdata_2021-04.parquet\")"
   ]
  },
  {
   "cell_type": "code",
   "execution_count": null,
   "id": "5a40d23e",
   "metadata": {},
   "outputs": [
    {
     "name": "stderr",
     "output_type": "stream",
     "text": [
      "Downloading artifacts:   0%|          | 0/1 [00:00<?, ?it/s]\n",
      "Downloading artifacts: 100%|██████████| 6/6 [00:00<00:00, 1380.31it/s] \n"
     ]
    }
   ],
   "source": [
    "model = mlflow.pyfunc.load_model(\"runs:/c94de1a1d7d54fba87e6582023251d7a/model\")"
   ]
  },
  {
   "cell_type": "code",
   "execution_count": 55,
   "id": "7d4cf7e3",
   "metadata": {},
   "outputs": [
    {
     "name": "stdout",
     "output_type": "stream",
     "text": [
      "mlflow.pyfunc.loaded_model:\n",
      "  artifact_path: /workspaces/Mlops-Zoomcamp-2025/02-experiment-tracking/mlruns/3/models/m-cd58a7a62b384ba4aedf01cf396bb1b5/artifacts\n",
      "  flavor: mlflow.sklearn\n",
      "  run_id: c94de1a1d7d54fba87e6582023251d7a\n",
      "\n"
     ]
    }
   ],
   "source": [
    "print(model)"
   ]
  },
  {
   "cell_type": "code",
   "execution_count": 65,
   "id": "ffa4c810",
   "metadata": {},
   "outputs": [
    {
     "name": "stderr",
     "output_type": "stream",
     "text": [
      "Downloading artifacts:   0%|          | 0/1 [00:00<?, ?it/s]\n",
      "Downloading artifacts: 100%|██████████| 6/6 [00:00<00:00, 1867.32it/s] \n"
     ]
    }
   ],
   "source": [
    "model = mlflow.pyfunc.load_model(f\"runs:/c94de1a1d7d54fba87e6582023251d7a/model\")\n",
    "dv = model._model_impl  # Access the DictVectorizer\n"
   ]
  },
  {
   "cell_type": "code",
   "execution_count": 72,
   "id": "e4c6b016",
   "metadata": {},
   "outputs": [
    {
     "name": "stderr",
     "output_type": "stream",
     "text": [
      "Downloading artifacts:   0%|          | 0/1 [00:00<?, ?it/s]\n",
      "Downloading artifacts: 100%|██████████| 6/6 [00:00<00:00, 1236.83it/s] \n"
     ]
    }
   ],
   "source": [
    "import mlflow.sklearn\n",
    "model = mlflow.sklearn.load_model(f\"runs:/c94de1a1d7d54fba87e6582023251d7a/model\")"
   ]
  },
  {
   "cell_type": "code",
   "execution_count": 73,
   "id": "74df3151",
   "metadata": {},
   "outputs": [
    {
     "name": "stdout",
     "output_type": "stream",
     "text": [
      "['_ElasticNet__metadata_request__fit', '__abstractmethods__', '__annotations__', '__class__', '__delattr__', '__dict__', '__dir__', '__doc__', '__eq__', '__format__', '__ge__', '__getattribute__', '__getstate__', '__gt__', '__hash__', '__init__', '__init_subclass__', '__le__', '__lt__', '__module__', '__ne__', '__new__', '__reduce__', '__reduce_ex__', '__repr__', '__setattr__', '__setstate__', '__sizeof__', '__sklearn_clone__', '__sklearn_tags__', '__str__', '__subclasshook__', '__weakref__', '_abc_impl', '_build_request_for_signature', '_decision_function', '_doc_link_module', '_doc_link_template', '_doc_link_url_param_generator', '_estimator_type', '_get_default_requests', '_get_doc_link', '_get_metadata_request', '_get_param_names', '_get_params_html', '_html_repr', '_parameter_constraints', '_repr_html_', '_repr_html_inner', '_repr_mimebundle_', '_set_intercept', '_validate_params', 'alpha', 'coef_', 'copy_X', 'dual_gap_', 'fit', 'fit_intercept', 'get_metadata_routing', 'get_params', 'intercept_', 'l1_ratio', 'max_iter', 'n_features_in_', 'n_iter_', 'path', 'positive', 'precompute', 'predict', 'random_state', 'score', 'selection', 'set_fit_request', 'set_params', 'set_score_request', 'sparse_coef_', 'tol', 'warm_start']\n"
     ]
    }
   ],
   "source": [
    "print(dir(model))  # See available attributes\n"
   ]
  },
  {
   "cell_type": "code",
   "execution_count": 62,
   "id": "be7d4836",
   "metadata": {},
   "outputs": [
    {
     "name": "stdout",
     "output_type": "stream",
     "text": [
      "<class 'mlflow.pyfunc.PyFuncModel'>\n"
     ]
    }
   ],
   "source": [
    "print(type(model))"
   ]
  },
  {
   "cell_type": "code",
   "execution_count": 59,
   "id": "ca2ffc92",
   "metadata": {},
   "outputs": [
    {
     "name": "stdout",
     "output_type": "stream",
     "text": [
      "<mlflow.sklearn._SklearnModelWrapper object at 0x7453f41e42c0>\n"
     ]
    }
   ],
   "source": [
    "print(dv)"
   ]
  },
  {
   "cell_type": "code",
   "execution_count": 70,
   "id": "c87772e4",
   "metadata": {},
   "outputs": [],
   "source": [
    "import pickle"
   ]
  },
  {
   "cell_type": "code",
   "execution_count": 71,
   "id": "c1965b9c",
   "metadata": {},
   "outputs": [],
   "source": [
    "with open('models/lin_reg2.bin', 'rb') as f_in:\n",
    "    dv, _ = pickle.load(f_in)\n",
    "    \n",
    "X_test = preprocess(df, dv) "
   ]
  },
  {
   "cell_type": "code",
   "execution_count": 74,
   "id": "0de449fb",
   "metadata": {},
   "outputs": [],
   "source": [
    "y_pred = model.predict(X_test)"
   ]
  },
  {
   "cell_type": "code",
   "execution_count": 75,
   "id": "b8646574",
   "metadata": {},
   "outputs": [
    {
     "data": {
      "text/plain": [
       "array([12.89535573,  9.6594789 , 12.47463313, ..., 14.64493534,\n",
       "       19.87818932, 21.57954141], shape=(82750,))"
      ]
     },
     "execution_count": 75,
     "metadata": {},
     "output_type": "execute_result"
    }
   ],
   "source": [
    "y_pred"
   ]
  },
  {
   "cell_type": "code",
   "execution_count": null,
   "id": "1d677cb5",
   "metadata": {},
   "outputs": [
    {
     "name": "stderr",
     "output_type": "stream",
     "text": [
      "Downloading artifacts: 100%|██████████| 1/1 [00:00<00:00, 213.97it/s]\n"
     ]
    },
    {
     "data": {
      "text/plain": [
       "'/workspaces/Mlops-Zoomcamp-2025/02-experiment-tracking/downloaded_models/lin_reg2.bin'"
      ]
     },
     "execution_count": 77,
     "metadata": {},
     "output_type": "execute_result"
    }
   ],
   "source": [
    "# import mlflow\n",
    "mlflow.artifacts.download_artifacts(\n",
    "    run_id=\"c94de1a1d7d54fba87e6582023251d7a\",\n",
    "    artifact_path=\"models_pickle/lin_reg2.bin\",\n",
    "    dst_path=\"./downloaded_models\"\n",
    ")\n",
    "\n",
    "# from mlflow.tracking import MlflowClient\n",
    "\n",
    "# client = MlflowClient()\n",
    "# client.download_artifacts(\n",
    "#     run_id=\"your_run_id\", \n",
    "#     path=\"models_pickle/lin_reg2.bin\",\n",
    "#     dst_path=\"./downloaded_models\"\n",
    "# )"
   ]
  },
  {
   "cell_type": "code",
   "execution_count": 80,
   "id": "4878853e",
   "metadata": {},
   "outputs": [],
   "source": [
    "with open('./downloaded_models/lin_reg2.bin', 'rb') as f_in:\n",
    "    dv, lr = pickle.load(f_in)"
   ]
  },
  {
   "cell_type": "code",
   "execution_count": 81,
   "id": "ff1a58dc",
   "metadata": {},
   "outputs": [],
   "source": [
    "X_test = preprocess(df, dv) "
   ]
  },
  {
   "cell_type": "code",
   "execution_count": 82,
   "id": "46e3fe94",
   "metadata": {},
   "outputs": [],
   "source": [
    "y_pred = model.predict(X_test)"
   ]
  },
  {
   "cell_type": "code",
   "execution_count": 83,
   "id": "aeaf87df",
   "metadata": {},
   "outputs": [],
   "source": [
    "target = \"duration\"\n",
    "y_test = df[target].values"
   ]
  },
  {
   "cell_type": "code",
   "execution_count": 84,
   "id": "5a6ee85b",
   "metadata": {},
   "outputs": [
    {
     "name": "stderr",
     "output_type": "stream",
     "text": [
      "Downloading artifacts:   0%|          | 0/1 [00:00<?, ?it/s]\n",
      "Downloading artifacts: 100%|██████████| 6/6 [00:00<00:00, 513.48it/s]  "
     ]
    },
    {
     "name": "stdout",
     "output_type": "stream",
     "text": [
      "CPU times: user 58.5 ms, sys: 2.31 ms, total: 60.8 ms\n",
      "Wall time: 76.5 ms\n"
     ]
    },
    {
     "name": "stderr",
     "output_type": "stream",
     "text": [
      "\n"
     ]
    },
    {
     "data": {
      "text/plain": [
       "{'rmse': 8.083311190323899}"
      ]
     },
     "execution_count": 84,
     "metadata": {},
     "output_type": "execute_result"
    }
   ],
   "source": [
    "%time test_model(run_id=\"c94de1a1d7d54fba87e6582023251d7a\",  X_test=X_test, y_test=y_test)"
   ]
  }
 ],
 "metadata": {
  "kernelspec": {
   "display_name": "Python 3",
   "language": "python",
   "name": "python3"
  },
  "language_info": {
   "codemirror_mode": {
    "name": "ipython",
    "version": 3
   },
   "file_extension": ".py",
   "mimetype": "text/x-python",
   "name": "python",
   "nbconvert_exporter": "python",
   "pygments_lexer": "ipython3",
   "version": "3.12.1"
  }
 },
 "nbformat": 4,
 "nbformat_minor": 5
}
