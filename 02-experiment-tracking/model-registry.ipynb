{
 "cells": [
  {
   "cell_type": "code",
   "execution_count": 2,
   "id": "3cfca03c",
   "metadata": {},
   "outputs": [],
   "source": [
    "from mlflow.tracking import MlflowClient\n",
    "MLFLOW_TRACKING_URI = \"sqlite:///mlflow.db\""
   ]
  },
  {
   "cell_type": "code",
   "execution_count": 3,
   "id": "1ffe3dd6",
   "metadata": {},
   "outputs": [
    {
     "name": "stderr",
     "output_type": "stream",
     "text": [
      "2025/09/12 06:20:41 INFO mlflow.store.db.utils: Creating initial MLflow database tables...\n",
      "2025/09/12 06:20:41 INFO mlflow.store.db.utils: Updating database tables\n",
      "INFO  [alembic.runtime.migration] Context impl SQLiteImpl.\n",
      "INFO  [alembic.runtime.migration] Will assume non-transactional DDL.\n",
      "INFO  [alembic.runtime.migration] Context impl SQLiteImpl.\n",
      "INFO  [alembic.runtime.migration] Will assume non-transactional DDL.\n"
     ]
    },
    {
     "data": {
      "text/plain": [
       "[<Experiment: artifact_location='/workspaces/Mlops-Zoomcamp-2025/02-experiment-tracking/mlruns/2', creation_time=1757655991553, experiment_id='2', last_update_time=1757655991553, lifecycle_stage='active', name='my-cool-experiment', tags={}>,\n",
       " <Experiment: artifact_location='/workspaces/Mlops-Zoomcamp-2025/02-experiment-tracking/mlruns/1', creation_time=1757654328038, experiment_id='1', last_update_time=1757654328038, lifecycle_stage='active', name='nyc-taxi-experiment', tags={}>,\n",
       " <Experiment: artifact_location='/workspaces/Mlops-Zoomcamp-2025/02-experiment-tracking/mlruns/0', creation_time=1757654328030, experiment_id='0', last_update_time=1757654328030, lifecycle_stage='active', name='Default', tags={}>]"
      ]
     },
     "execution_count": 3,
     "metadata": {},
     "output_type": "execute_result"
    }
   ],
   "source": [
    "client = MlflowClient(tracking_uri=MLFLOW_TRACKING_URI)\n",
    "\n",
    "client.search_experiments()"
   ]
  },
  {
   "cell_type": "code",
   "execution_count": 4,
   "id": "0aed1ecf",
   "metadata": {},
   "outputs": [
    {
     "data": {
      "text/plain": [
       "'2'"
      ]
     },
     "execution_count": 4,
     "metadata": {},
     "output_type": "execute_result"
    }
   ],
   "source": [
    "client.create_experiment(name=\"my-cool-experiment\")"
   ]
  },
  {
   "cell_type": "code",
   "execution_count": 4,
   "id": "5b82b721",
   "metadata": {},
   "outputs": [],
   "source": [
    "from mlflow.entities import ViewType\n",
    "\n",
    "runs = client.search_runs(\n",
    "    experiment_ids='1',\n",
    "    filter_string=\"\",\n",
    "    run_view_type=ViewType.ACTIVE_ONLY,\n",
    "    max_results=5,\n",
    "    order_by=[\"metrics.rmse ASC\"]\n",
    ")"
   ]
  },
  {
   "cell_type": "code",
   "execution_count": 5,
   "id": "87720e3b",
   "metadata": {},
   "outputs": [
    {
     "name": "stdout",
     "output_type": "stream",
     "text": [
      "run id: b16d1f19aad545b9974c906ae2810bae, rmse: 7.6166\n",
      "run id: d011c6d504ae462bb4666d12900ee4d1, rmse: 9.2334\n"
     ]
    }
   ],
   "source": [
    "for run in runs:\n",
    "    print(f\"run id: {run.info.run_id}, rmse: {run.data.metrics['rmse']:.4f}\")"
   ]
  },
  {
   "cell_type": "markdown",
   "id": "bf8c44b5",
   "metadata": {},
   "source": [
    "Model Registry\n",
    "\n"
   ]
  },
  {
   "cell_type": "code",
   "execution_count": 6,
   "id": "7042b805",
   "metadata": {},
   "outputs": [],
   "source": [
    "import mlflow\n",
    "\n",
    "mlflow.set_tracking_uri(MLFLOW_TRACKING_URI)"
   ]
  },
  {
   "cell_type": "code",
   "execution_count": 8,
   "id": "6daca191",
   "metadata": {},
   "outputs": [
    {
     "data": {
      "text/plain": [
       "<Run: data=<RunData: metrics={'rmse': 9.23343622815571}, params={'learning_rate': '0.09585355369315604',\n",
       " 'max_depth': '30',\n",
       " 'min_child_weight': '1.060597050922164',\n",
       " 'objective': 'reg:linear',\n",
       " 'reg_alpha': '0.018060244040060163',\n",
       " 'reg_lambda': '0.011658731377413597',\n",
       " 'seed': '42'}, tags={'mlflow.runName': 'masked-kit-244',\n",
       " 'mlflow.source.name': '/home/codespace/.local/lib/python3.12/site-packages/ipykernel_launcher.py',\n",
       " 'mlflow.source.type': 'LOCAL',\n",
       " 'mlflow.user': 'codespace'}>, info=<RunInfo: artifact_uri='/workspaces/Mlops-Zoomcamp-2025/02-experiment-tracking/mlruns/1/d011c6d504ae462bb4666d12900ee4d1/artifacts', end_time=1757654916717, experiment_id='1', lifecycle_stage='active', run_id='d011c6d504ae462bb4666d12900ee4d1', run_name='masked-kit-244', start_time=1757654715337, status='FINISHED', user_id='codespace'>, inputs=<RunInputs: dataset_inputs=[], model_inputs=[]>, outputs=<RunOutputs: model_outputs=[<LoggedModelOutput: model_id='m-1e0dc97aaca5467d910e3f0f4d249d08', step=0>]>>"
      ]
     },
     "execution_count": 8,
     "metadata": {},
     "output_type": "execute_result"
    }
   ],
   "source": [
    "client.get_run(\"d011c6d504ae462bb4666d12900ee4d1\")"
   ]
  },
  {
   "cell_type": "code",
   "execution_count": 9,
   "id": "e65b5510",
   "metadata": {},
   "outputs": [
    {
     "name": "stderr",
     "output_type": "stream",
     "text": [
      "Registered model 'nyc-taxi-model' already exists. Creating a new version of this model...\n",
      "2025/09/12 06:29:52 WARNING mlflow.tracking._model_registry.fluent: Run with id d011c6d504ae462bb4666d12900ee4d1 has no artifacts at artifact path 'models_mlflow', registering model based on models:/m-1e0dc97aaca5467d910e3f0f4d249d08 instead\n",
      "Created version '1' of model 'nyc-taxi-model'.\n"
     ]
    },
    {
     "data": {
      "text/plain": [
       "<ModelVersion: aliases=[], creation_timestamp=1757658592311, current_stage='None', deployment_job_state=None, description=None, last_updated_timestamp=1757658592311, metrics=None, model_id=None, name='nyc-taxi-model', params=None, run_id='d011c6d504ae462bb4666d12900ee4d1', run_link=None, source='models:/m-1e0dc97aaca5467d910e3f0f4d249d08', status='READY', status_message=None, tags={}, user_id=None, version=1>"
      ]
     },
     "execution_count": 9,
     "metadata": {},
     "output_type": "execute_result"
    }
   ],
   "source": [
    "run_id = \"d011c6d504ae462bb4666d12900ee4d1\"\n",
    "model_uri = f\"runs:/{run_id}/models_mlflow\"  # Use the actual artifact name - models_mlflow\n",
    "mlflow.register_model(model_uri=model_uri, name=\"nyc-taxi-model\")"
   ]
  },
  {
   "cell_type": "code",
   "execution_count": 11,
   "id": "b63bfa41",
   "metadata": {},
   "outputs": [
    {
     "name": "stdout",
     "output_type": "stream",
     "text": [
      "version: 1, stage: None\n"
     ]
    },
    {
     "name": "stderr",
     "output_type": "stream",
     "text": [
      "/tmp/ipykernel_2174/574510856.py:2: FutureWarning: ``mlflow.tracking.client.MlflowClient.get_latest_versions`` is deprecated since 2.9.0. Model registry stages will be removed in a future major release. To learn more about the deprecation of model registry stages, see our migration guide here: https://mlflow.org/docs/latest/model-registry.html#migrating-from-stages\n",
      "  latest_versions = client.get_latest_versions(name=model_name)\n"
     ]
    }
   ],
   "source": [
    "model_name = \"nyc-taxi\"\n",
    "latest_versions = client.get_latest_versions(name=model_name)\n",
    "\n",
    "for version in latest_versions:\n",
    "    print(f\"version: {version.version}, stage: {version.current_stage}\")"
   ]
  }
 ],
 "metadata": {
  "kernelspec": {
   "display_name": "Python 3",
   "language": "python",
   "name": "python3"
  },
  "language_info": {
   "codemirror_mode": {
    "name": "ipython",
    "version": 3
   },
   "file_extension": ".py",
   "mimetype": "text/x-python",
   "name": "python",
   "nbconvert_exporter": "python",
   "pygments_lexer": "ipython3",
   "version": "3.12.1"
  }
 },
 "nbformat": 4,
 "nbformat_minor": 5
}
